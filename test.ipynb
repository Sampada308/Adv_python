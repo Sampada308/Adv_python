{
 "cells": [
  {
   "cell_type": "markdown",
   "id": "d333124d",
   "metadata": {},
   "source": [
    "# This is a test file\n",
    "1. esc, m -> Markdown cell\n",
    "2. esc, y -> Code cell\n",
    "3. shift + enter -> execute cell"
   ]
  },
  {
   "cell_type": "code",
   "execution_count": 1,
   "id": "d05394f1",
   "metadata": {},
   "outputs": [],
   "source": [
    "import pandas as pd"
   ]
  },
  {
   "cell_type": "code",
   "execution_count": 2,
   "id": "f57f5259",
   "metadata": {},
   "outputs": [],
   "source": [
    "import matplotlib as pyplot"
   ]
  },
  {
   "cell_type": "code",
   "execution_count": 3,
   "id": "7814cebd",
   "metadata": {},
   "outputs": [],
   "source": [
    "import seaborn as sns"
   ]
  },
  {
   "cell_type": "code",
   "execution_count": 4,
   "id": "92e16df8",
   "metadata": {},
   "outputs": [],
   "source": [
    "import numpy as np"
   ]
  }
 ],
 "metadata": {
  "kernelspec": {
   "display_name": "Adv_Python (3.13.6)",
   "language": "python",
   "name": "python3"
  },
  "language_info": {
   "codemirror_mode": {
    "name": "ipython",
    "version": 3
   },
   "file_extension": ".py",
   "mimetype": "text/x-python",
   "name": "python",
   "nbconvert_exporter": "python",
   "pygments_lexer": "ipython3",
   "version": "3.13.6"
  }
 },
 "nbformat": 4,
 "nbformat_minor": 5
}
